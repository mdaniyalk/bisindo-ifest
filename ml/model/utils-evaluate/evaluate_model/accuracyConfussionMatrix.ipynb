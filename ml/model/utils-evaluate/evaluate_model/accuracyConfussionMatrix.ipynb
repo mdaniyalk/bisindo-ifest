{
 "cells": [
  {
   "cell_type": "code",
   "execution_count": null,
   "metadata": {},
   "outputs": [],
   "source": [
    "arr = [[[225, 2],[0, 13]], [[230, 0], [2, 8]], [[220, 0], [2, 18]], [[221, 2], [0, 17]], [[224, 1], [1, 14]], [[235, 0], [0, 5]], [[228, 1], [2, 9]], [[226, 0], [0, 14]], [[218, 3], [3, 16]], [[227, 3], [0, 10]], [[221, 0], [2, 17]], [[216, 3], [3, 18]], [[221, 5], [4, 10]], [[221, 0], [0, 19]], [[224, 5], [5, 6]], [[218, 0], [1, 21]]]\n",
    "\n",
    "acc = []\n",
    "press = []\n",
    "recall = []\n",
    "for _arr in arr:\n",
    "    tp = _arr[0][0]\n",
    "    tn = _arr[1][1]\n",
    "    fp = _arr[0][1]\n",
    "    fn = _arr[1][0]\n",
    "    _acc = float(tp+tn)\n",
    "    _div = tp+tn+fp+fn\n",
    "    acc.append(_acc/_div)\n",
    "    _div = tp+fn\n",
    "    recall.append(tp/_div)\n",
    "    _div = tp+fp\n",
    "    press.append(tp/_div)\n",
    "\n",
    "print(acc)\n",
    "print(\"\\n\\n\")\n",
    "print(press)\n",
    "print(\"\\n\\n\")\n",
    "print(recall)\n",
    "print(\"\\n\\n\")\n"
   ]
  }
 ],
 "metadata": {
  "kernelspec": {
   "display_name": "Python 3.9.4 64-bit",
   "language": "python",
   "name": "python3"
  },
  "language_info": {
   "name": "python",
   "version": "3.9.4"
  },
  "orig_nbformat": 4,
  "vscode": {
   "interpreter": {
    "hash": "d428c2a1e34a88b46480b35490d30f1e50265fea0856e59da1459dd84013c8a8"
   }
  }
 },
 "nbformat": 4,
 "nbformat_minor": 2
}
