{
 "cells": [
  {
   "cell_type": "code",
   "execution_count": 1,
   "metadata": {},
   "outputs": [],
   "source": [
    "import cv2\n",
    "import pyttsx3\n",
    "import threading\n",
    "\n",
    "status_list=[None,None]\n",
    "\n",
    "alarm_sound = pyttsx3.init()\n",
    "voices = alarm_sound.getProperty('voices')\n",
    "alarm_sound.setProperty('voice', voices[0].id)\n",
    "alarm_sound.setProperty('rate', 150)\n",
    "\n",
    "def voice_alarm(alarm_sound):\n",
    "    alarm_sound.say(\"Object Detected\")\n",
    "    alarm_sound.runAndWait()\n",
    "\n",
    "\n"
   ]
  },
  {
   "cell_type": "code",
   "execution_count": 2,
   "metadata": {},
   "outputs": [],
   "source": [
    "from skimage.metrics import structural_similarity as ssim\n",
    "\n",
    "\n",
    "# simlarityIndex = ssim(imageCurrentReshape, imageLoadedReshape)"
   ]
  },
  {
   "cell_type": "code",
   "execution_count": 19,
   "metadata": {},
   "outputs": [],
   "source": [
    "video=cv2.VideoCapture(0)\n",
    "initial_frame = None\n",
    "imageframe =[]\n",
    "while True:\n",
    "    check, frame = video.read()\n",
    "    frame = cv2.flip(frame,1)\n",
    "    status=0\n",
    "    # np_frame = cv2.imread(frame, cv2.IMREAD_ANYDEPTH)\n",
    "    imageframe.append(frame)\n",
    "    gray_frame=cv2.cvtColor(frame,cv2.COLOR_BGR2GRAY)\n",
    "    gray_frame=cv2.GaussianBlur(gray_frame,(25,25),0)\n",
    "\n",
    "    blur_frame = cv2.blur(gray_frame, (5,5))\n",
    "    \n",
    "    if initial_frame is None:\n",
    "        initial_frame = blur_frame\n",
    "        continue\n",
    "\n",
    "    delta_frame=cv2.absdiff(initial_frame,blur_frame)\n",
    "    threshold_frame=cv2.threshold(delta_frame,35,255, cv2.THRESH_BINARY)[1]\n",
    "\n",
    "    (contours,_)=cv2.findContours(threshold_frame,cv2.RETR_EXTERNAL,cv2.CHAIN_APPROX_SIMPLE)\n",
    "\n",
    "\n",
    "    for c in contours:\n",
    "        if cv2.contourArea(c) < 5000:\n",
    "            continue\n",
    "        status=status + 1\n",
    "        # (x, y, w, h)=cv2.boundingRect(c)\n",
    "        # cv2.rectangle(frame, (x, y), (x+w, y+h), (0,255,0), 1)\n",
    "    status_list.append(status)\n",
    "\n",
    "    if status_list[-1]>= 1 and status_list[-2]==0:\n",
    "        alarm = threading.Thread(target=voice_alarm, args=(alarm_sound,))\n",
    "        alarm.start()\n",
    "\n",
    "    cv2.imshow('motion detector', frame)\n",
    "    key = cv2.waitKey(1)\n",
    "    if key == ord('q'):\n",
    "        break\n",
    "\n",
    "# simlarityIndex = ssim(imageframe[0], imageframe[1])\n",
    "# print(imageframe[0].shape)\n",
    "# print(imageframe)\n",
    "alarm_sound.stop()\n",
    "video.release()\n",
    "cv2.destroyAllWindows()"
   ]
  },
  {
   "cell_type": "code",
   "execution_count": 27,
   "metadata": {},
   "outputs": [
    {
     "name": "stderr",
     "output_type": "stream",
     "text": [
      "C:\\Users\\MDaniyalK\\AppData\\Local\\Temp\\ipykernel_28272\\4202737934.py:1: FutureWarning: `multichannel` is a deprecated argument name for `structural_similarity`. It will be removed in version 1.0. Please use `channel_axis` instead.\n",
      "  simlarityIndex = ssim(imageframe[1], imageframe[3], multichannel = True)\n"
     ]
    },
    {
     "name": "stdout",
     "output_type": "stream",
     "text": [
      "0.5309741336929975\n"
     ]
    }
   ],
   "source": [
    "simlarityIndex = ssim(imageframe[1], imageframe[3], multichannel = True)\n",
    "print(simlarityIndex)"
   ]
  },
  {
   "cell_type": "code",
   "execution_count": 12,
   "metadata": {},
   "outputs": [
    {
     "name": "stdout",
     "output_type": "stream",
     "text": [
      "[[[12 12 12]\n",
      "  [12 12 12]\n",
      "  [12 12 12]\n",
      "  ...\n",
      "  [12 12 12]\n",
      "  [12 12 12]\n",
      "  [12 12 12]]\n",
      "\n",
      " [[12 12 12]\n",
      "  [12 12 12]\n",
      "  [12 12 12]\n",
      "  ...\n",
      "  [ 8 12 12]\n",
      "  [10 12 12]\n",
      "  [12 12 12]]\n",
      "\n",
      " [[12 12 12]\n",
      "  [12 12 12]\n",
      "  [12 12 12]\n",
      "  ...\n",
      "  [12 12 12]\n",
      "  [12 12 12]\n",
      "  [12 12 12]]\n",
      "\n",
      " ...\n",
      "\n",
      " [[ 8 12 12]\n",
      "  [ 8 12 12]\n",
      "  [10 12 12]\n",
      "  ...\n",
      "  [ 8 12 12]\n",
      "  [10 12 12]\n",
      "  [12 12 12]]\n",
      "\n",
      " [[12 12 12]\n",
      "  [12 12 12]\n",
      "  [12 12 12]\n",
      "  ...\n",
      "  [12 12 12]\n",
      "  [12 12 12]\n",
      "  [12 12 12]]\n",
      "\n",
      " [[12 12 12]\n",
      "  [12 12 12]\n",
      "  [12 12 10]\n",
      "  ...\n",
      "  [ 8 12 12]\n",
      "  [10 12 12]\n",
      "  [12 12 12]]]\n"
     ]
    }
   ],
   "source": [
    "print(imageframe[1]*2)"
   ]
  },
  {
   "cell_type": "code",
   "execution_count": 6,
   "metadata": {},
   "outputs": [],
   "source": [
    "import skimage.io as io"
   ]
  },
  {
   "cell_type": "code",
   "execution_count": 8,
   "metadata": {},
   "outputs": [
    {
     "name": "stdout",
     "output_type": "stream",
     "text": [
      "(315, 420, 3)\n"
     ]
    }
   ],
   "source": [
    "test = io.imread(\"https://upload.wikimedia.org/wikipedia/commons/e/ee/Sample_abc.jpg\")\n",
    "print(test.shape)"
   ]
  },
  {
   "cell_type": "code",
   "execution_count": 16,
   "metadata": {},
   "outputs": [
    {
     "name": "stderr",
     "output_type": "stream",
     "text": [
      "C:\\Users\\MDaniyalK\\AppData\\Local\\Temp\\ipykernel_28272\\1758444896.py:1: FutureWarning: `multichannel` is a deprecated argument name for `structural_similarity`. It will be removed in version 1.0. Please use `channel_axis` instead.\n",
      "  ssim(test, test, multichannel = True)\n"
     ]
    },
    {
     "data": {
      "text/plain": [
       "1.0"
      ]
     },
     "execution_count": 16,
     "metadata": {},
     "output_type": "execute_result"
    }
   ],
   "source": [
    "ssim(test, test, multichannel = True)"
   ]
  }
 ],
 "metadata": {
  "kernelspec": {
   "display_name": "Python 3.9.4 64-bit",
   "language": "python",
   "name": "python3"
  },
  "language_info": {
   "codemirror_mode": {
    "name": "ipython",
    "version": 3
   },
   "file_extension": ".py",
   "mimetype": "text/x-python",
   "name": "python",
   "nbconvert_exporter": "python",
   "pygments_lexer": "ipython3",
   "version": "3.9.4"
  },
  "orig_nbformat": 4,
  "vscode": {
   "interpreter": {
    "hash": "d428c2a1e34a88b46480b35490d30f1e50265fea0856e59da1459dd84013c8a8"
   }
  }
 },
 "nbformat": 4,
 "nbformat_minor": 2
}
