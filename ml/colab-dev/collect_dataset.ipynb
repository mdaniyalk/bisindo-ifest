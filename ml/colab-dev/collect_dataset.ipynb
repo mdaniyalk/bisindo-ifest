{
 "cells": [
  {
   "cell_type": "code",
   "execution_count": 1,
   "metadata": {},
   "outputs": [
    {
     "name": "stdout",
     "output_type": "stream",
     "text": [
      "Requirement already satisfied: opencv-python in c:\\users\\mdaniyalk\\appdata\\local\\programs\\python\\python39\\lib\\site-packages (4.6.0.66)\n",
      "Requirement already satisfied: numpy>=1.14.5 in c:\\users\\mdaniyalk\\appdata\\local\\programs\\python\\python39\\lib\\site-packages (from opencv-python) (1.22.3)\n",
      "\n",
      "[notice] A new release of pip available: 22.1.2 -> 22.2.2\n",
      "[notice] To update, run: python.exe -m pip install --upgrade pip\n",
      "Note: you may need to restart the kernel to use updated packages.\n",
      "Requirement already satisfied: numpy in c:\\users\\mdaniyalk\\appdata\\local\\programs\\python\\python39\\lib\\site-packages (1.22.3)\n",
      "\n",
      "[notice] A new release of pip available: 22.1.2 -> 22.2.2\n",
      "[notice] To update, run: python.exe -m pip install --upgrade pip\n",
      "Note: you may need to restart the kernel to use updated packages.\n"
     ]
    }
   ],
   "source": [
    "# Run if you haven't install opencv and numpy\n",
    "\n",
    "%pip install opencv-python\n",
    "%pip install numpy"
   ]
  },
  {
   "cell_type": "code",
   "execution_count": 1,
   "metadata": {},
   "outputs": [],
   "source": [
    "import numpy as np\n",
    "import cv2\n",
    "import os\n",
    "from time import sleep"
   ]
  },
  {
   "cell_type": "code",
   "execution_count": 2,
   "metadata": {},
   "outputs": [],
   "source": [
    "# creating a folder \n",
    "\n",
    "foldername = ['halo', 'nama', 'aku', 'perkenalkan', 'r', 'kami', 'd', 'a', 'n', 'i', 'y', 'l', 'u', 'g', 'm', 'NOTHING']\n",
    "for action in foldername:\n",
    "    # for sequence in range(1,11):\n",
    "    try: \n",
    "        os.makedirs(os.path.join(\"dataset_raw_berdiri\", action))\n",
    "    except:\n",
    "        pass\n",
    "\n"
   ]
  },
  {
   "cell_type": "code",
   "execution_count": 48,
   "metadata": {},
   "outputs": [],
   "source": [
    "# isi foldername dibawah (manual) dengan elemen foldername sebelumnya\n",
    "\n",
    "foldername = ['g']"
   ]
  },
  {
   "cell_type": "code",
   "execution_count": 4,
   "metadata": {},
   "outputs": [
    {
     "name": "stdout",
     "output_type": "stream",
     "text": [
      "[0, 1]\n"
     ]
    }
   ],
   "source": [
    "index = 0\n",
    "arr = []\n",
    "while True:\n",
    "    cap = cv2.VideoCapture(index)\n",
    "    if not cap.read()[0]:\n",
    "        break\n",
    "    else:\n",
    "        arr.append(index)\n",
    "    cap.release()\n",
    "    index += 1\n",
    "print(arr)"
   ]
  },
  {
   "cell_type": "code",
   "execution_count": 49,
   "metadata": {},
   "outputs": [
    {
     "name": "stdout",
     "output_type": "stream",
     "text": [
      "video ke 1\n",
      "video ke 2\n",
      "video ke 3\n",
      "video ke 4\n",
      "video ke 5\n",
      "video ke 6\n",
      "video ke 7\n",
      "video ke 8\n",
      "video ke 9\n",
      "video ke 10\n"
     ]
    }
   ],
   "source": [
    "# kamera webcam otomatis rekam 10 kali. selama 1 detik. ada jeda sebentar sekitar 2 detik tiap take\n",
    "\n",
    "delay = 1\n",
    "sleep(delay*2)\n",
    "# fourcc = cv2.VideoWriter_fourcc(*'XVID')\n",
    "for i in range(10):\n",
    "    delay = 1\n",
    "    print('video ke {}'.format(i+1))\n",
    "    cap = cv2.VideoCapture(1)\n",
    "    sleep(delay)\n",
    "\n",
    "    frame_width = int(cap.get(3))\n",
    "    frame_height = int(cap.get(4))\n",
    "    \n",
    "    size = (frame_width, frame_height)\n",
    "    save_path = os.path.join(\"dataset_raw_berdiri\", foldername[0], str(i))\n",
    "    out = cv2.VideoWriter('{}.avi'.format(save_path),cv2.VideoWriter_fourcc(*'MJPG'), 25.0, size)\n",
    "\n",
    "    for frame_num in range(50):\n",
    "        ret, frame = cap.read()\n",
    "        if ret==True:\n",
    "            # frame = cv2.flip(frame,0)\n",
    "\n",
    "            # write the flipped frame\n",
    "            out.write(frame)\n",
    "\n",
    "            cv2.imshow('video ke {}'.format(i+1),frame)\n",
    "            if cv2.waitKey(1) & 0xFF == ord('q'):\n",
    "                break\n",
    "        else:\n",
    "            break\n",
    "\n",
    "    # Release everything if job is finished\n",
    "    cap.release()\n",
    "    out.release()\n",
    "    cv2.destroyAllWindows()\n",
    "    \n",
    "    # delay = 1\n",
    "    sleep(delay)\n"
   ]
  }
 ],
 "metadata": {
  "kernelspec": {
   "display_name": "Python 3.9.4 64-bit",
   "language": "python",
   "name": "python3"
  },
  "language_info": {
   "codemirror_mode": {
    "name": "ipython",
    "version": 3
   },
   "file_extension": ".py",
   "mimetype": "text/x-python",
   "name": "python",
   "nbconvert_exporter": "python",
   "pygments_lexer": "ipython3",
   "version": "3.9.4"
  },
  "orig_nbformat": 4,
  "vscode": {
   "interpreter": {
    "hash": "d428c2a1e34a88b46480b35490d30f1e50265fea0856e59da1459dd84013c8a8"
   }
  }
 },
 "nbformat": 4,
 "nbformat_minor": 2
}
